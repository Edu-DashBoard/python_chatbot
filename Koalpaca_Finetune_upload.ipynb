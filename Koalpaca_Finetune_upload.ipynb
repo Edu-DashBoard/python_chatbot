{
  "nbformat": 4,
  "nbformat_minor": 0,
  "metadata": {
    "colab": {
      "provenance": []
    },
    "kernelspec": {
      "name": "python3",
      "display_name": "Python 3"
    },
    "language_info": {
      "name": "python"
    }
  },
  "cells": [
    {
      "cell_type": "code",
      "execution_count": null,
      "metadata": {
        "id": "yVZwFtQHQK23"
      },
      "outputs": [],
      "source": [
        "from google.colab import drive\n",
        "drive.mount('/content/drive')"
      ]
    },
    {
      "cell_type": "code",
      "source": [
        "# GPU 확인\n",
        "!nvidia-smi"
      ],
      "metadata": {
        "id": "mTOW7oyKQL2A"
      },
      "execution_count": null,
      "outputs": []
    },
    {
      "cell_type": "code",
      "source": [
        "!pip install -q -U bitsandbytes\n",
        "!pip install -q -U git+https://github.com/huggingface/transformers.git\n",
        "!pip install -q -U git+https://github.com/huggingface/peft.git\n",
        "!pip install -q -U git+https://github.com/huggingface/accelerate.git\n",
        "!pip install -q datasets"
      ],
      "metadata": {
        "id": "jthFDVuJQNIB"
      },
      "execution_count": null,
      "outputs": []
    },
    {
      "cell_type": "markdown",
      "source": [
        "# 데이터셋"
      ],
      "metadata": {
        "id": "JrrqtcRQQnJQ"
      }
    },
    {
      "cell_type": "code",
      "source": [
        "# 데이터셋 가져오기\n",
        "from datasets import load_dataset\n",
        "\n",
        "data = load_dataset(\"json\", data_files='/content/drive/MyDrive/Koalpaca/code_data.json')"
      ],
      "metadata": {
        "id": "XJz5-BVtQNGs"
      },
      "execution_count": null,
      "outputs": []
    },
    {
      "cell_type": "code",
      "source": [
        "# data 전처리\n",
        "data = data.map(\n",
        "    lambda x:\n",
        "    {'text': f\"### 명령어: {'아래는 작업을 설명하는 명령어입니다. 요청을 적절히 완료하는 파이썬 코드를 작성해주세요.'}\\n\\n### 질문: {x['instruction']}\\n\\n### 답변: {x['output']}<|endoftext|>\" }\n",
        ")"
      ],
      "metadata": {
        "id": "D_keEp-BQNEg"
      },
      "execution_count": null,
      "outputs": []
    },
    {
      "cell_type": "markdown",
      "source": [
        "# 모델로드"
      ],
      "metadata": {
        "id": "zVFxDy02Qgim"
      }
    },
    {
      "cell_type": "code",
      "source": [
        "# 모델 가져오기\n",
        "import torch\n",
        "from transformers import AutoTokenizer, pipeline, AutoModelForCausalLM, BitsAndBytesConfig\n",
        "\n",
        "MODEL = 'beomi/KoAlpaca-Polyglot-5.8B'\n",
        "bnb_config = BitsAndBytesConfig(\n",
        "    load_in_4bit=True,\n",
        "    bnb_4bit_use_double_quant=True,\n",
        "    bnb_4bit_quant_type=\"nf4\",\n",
        "    bnb_4bit_compute_dtype=torch.bfloat16\n",
        ")\n",
        "\n",
        "tokenizer = AutoTokenizer.from_pretrained(MODEL)\n",
        "\n",
        "model = AutoModelForCausalLM.from_pretrained(MODEL, quantization_config=bnb_config, device_map={\"\":0})"
      ],
      "metadata": {
        "id": "ag32wAbxQNC1"
      },
      "execution_count": null,
      "outputs": []
    },
    {
      "cell_type": "markdown",
      "source": [
        "# tokenize"
      ],
      "metadata": {
        "id": "MZD1Lei5QpPc"
      }
    },
    {
      "cell_type": "code",
      "source": [
        "# 텍스트 데이터만 tokenize\n",
        "data = data.map(lambda samples: tokenizer(samples[\"text\"]), batched=True)"
      ],
      "metadata": {
        "id": "Q01OKQoSQNBA"
      },
      "execution_count": null,
      "outputs": []
    },
    {
      "cell_type": "markdown",
      "source": [
        "# PEFT"
      ],
      "metadata": {
        "id": "MNXKCDOKQw-8"
      }
    },
    {
      "cell_type": "code",
      "source": [
        "# Low bit 학습 준비\n",
        "from peft import prepare_model_for_kbit_training\n",
        "\n",
        "model.gradient_checkpointing_enable()\n",
        "model = prepare_model_for_kbit_training(model)"
      ],
      "metadata": {
        "id": "sXVVivO9QM_Q"
      },
      "execution_count": null,
      "outputs": []
    },
    {
      "cell_type": "code",
      "source": [
        "def print_trainable_parameters(model):\n",
        "    \"\"\"\n",
        "    Prints the number of trainable parameters in the model.\n",
        "    \"\"\"\n",
        "    trainable_params = 0\n",
        "    all_param = 0\n",
        "    for _, param in model.named_parameters():\n",
        "        all_param += param.numel()\n",
        "        if param.requires_grad:\n",
        "            trainable_params += param.numel()\n",
        "    print(\n",
        "        f\"trainable params: {trainable_params} || all params: {all_param} || trainable%: {100 * trainable_params / all_param}\"\n",
        "    )"
      ],
      "metadata": {
        "id": "Xt2HJz7qQM9A"
      },
      "execution_count": null,
      "outputs": []
    },
    {
      "cell_type": "code",
      "source": [
        "from peft import LoraConfig, get_peft_model\n",
        "\n",
        "config = LoraConfig(\n",
        "    r=8,\n",
        "    lora_alpha=32,\n",
        "    target_modules=[\"query_key_value\"],\n",
        "    lora_dropout=0.05,\n",
        "    bias=\"none\",\n",
        "    task_type=\"CAUSAL_LM\"\n",
        ")\n",
        "\n",
        "model = get_peft_model(model, config)\n",
        "print_trainable_parameters(model)"
      ],
      "metadata": {
        "id": "pif2hsV0QMiP"
      },
      "execution_count": null,
      "outputs": []
    },
    {
      "cell_type": "markdown",
      "source": [
        "# 학습하기"
      ],
      "metadata": {
        "id": "S6dbfaA9Q2r9"
      }
    },
    {
      "cell_type": "code",
      "source": [
        "# 모델 학습\n",
        "import transformers\n",
        "\n",
        "# needed for gpt-neo-x tokenizer\n",
        "tokenizer.pad_token = tokenizer.eos_token\n",
        "\n",
        "trainer = transformers.Trainer(\n",
        "    model=model,\n",
        "    train_dataset=data[\"train\"],\n",
        "    args=transformers.TrainingArguments(\n",
        "        per_device_train_batch_size=2,\n",
        "        gradient_accumulation_steps=1,\n",
        "        max_steps=50, ## 초소량만 학습: 50 step만 학습. 약 4분정도 걸립니다.\n",
        "        learning_rate=1e-4,\n",
        "        fp16=True,\n",
        "        logging_steps=10,\n",
        "        output_dir=\"outputs\",\n",
        "        optim=\"paged_adamw_8bit\"\n",
        "    ),\n",
        "    data_collator=transformers.DataCollatorForLanguageModeling(tokenizer, mlm=False),\n",
        ")\n",
        "model.config.use_cache = False  # silence the warnings. Please re-enable for inference!\n",
        "trainer.train()"
      ],
      "metadata": {
        "id": "O4DImMO3Q3_E"
      },
      "execution_count": null,
      "outputs": []
    },
    {
      "cell_type": "code",
      "source": [
        "# 모델 평가모드\n",
        "model.eval()\n",
        "model.config.use_cache = True  # silence the warnings. Please re-enable for inference!"
      ],
      "metadata": {
        "id": "UKiuiN00Q4L0"
      },
      "execution_count": null,
      "outputs": []
    },
    {
      "cell_type": "markdown",
      "source": [
        "# 답변 생성 test"
      ],
      "metadata": {
        "id": "rL1oa_sdRFmY"
      }
    },
    {
      "cell_type": "code",
      "source": [
        "# 답변 생성 함수\n",
        "def gen(x):\n",
        "    gened = model.generate(\n",
        "        **tokenizer(\n",
        "            f\"### 명령어: 아래는 작업을 설명하는 명령어입니다. 요청을 적절히 완료하는 파이썬 코드를 작성해주세요.\\n\\n### 질문: {x}\\n\\n### 답변:\",\n",
        "            return_tensors='pt',\n",
        "            return_token_type_ids=False\n",
        "        ),\n",
        "        max_new_tokens=512,\n",
        "        early_stopping=True,\n",
        "        do_sample=True,\n",
        "        eos_token_id=2,\n",
        "    )\n",
        "    print(tokenizer.decode(gened[0]))"
      ],
      "metadata": {
        "id": "GhzKkE65Q4KE"
      },
      "execution_count": null,
      "outputs": []
    },
    {
      "cell_type": "code",
      "source": [
        "gen('Python이 뭐야?')"
      ],
      "metadata": {
        "id": "xiVWRsRaQ4IE"
      },
      "execution_count": null,
      "outputs": []
    },
    {
      "cell_type": "markdown",
      "source": [
        "# 모델 저장 & huggingface에 업로드"
      ],
      "metadata": {
        "id": "pRWjHv2rRNpw"
      }
    },
    {
      "cell_type": "code",
      "source": [
        "# huggingface 로그인\n",
        "import huggingface_hub\n",
        "\n",
        "huggingface_hub.login()"
      ],
      "metadata": {
        "id": "nyeoW7ygQ4Ds"
      },
      "execution_count": null,
      "outputs": []
    },
    {
      "cell_type": "code",
      "source": [
        "# 모델 업로드\n",
        "# 아이디 부분 수정\n",
        "model.push_to_hub('아이디/qlora-koalpaca-polyglot-5.8b-50step')"
      ],
      "metadata": {
        "id": "NOwl4yMgQ4Bk"
      },
      "execution_count": null,
      "outputs": []
    }
  ]
}